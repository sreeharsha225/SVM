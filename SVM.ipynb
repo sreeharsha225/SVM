{
  "nbformat": 4,
  "nbformat_minor": 0,
  "metadata": {
    "colab": {
      "name": "SVM.ipynb",
      "provenance": []
    },
    "kernelspec": {
      "display_name": "Python 3 (ipykernel)",
      "language": "python",
      "name": "python3"
    },
    "language_info": {
      "codemirror_mode": {
        "name": "ipython",
        "version": 3
      },
      "file_extension": ".py",
      "mimetype": "text/x-python",
      "name": "python",
      "nbconvert_exporter": "python",
      "pygments_lexer": "ipython3",
      "version": "3.8.10"
    },
    "accelerator": "GPU"
  },
  "cells": [
    {
      "cell_type": "markdown",
      "metadata": {
        "id": "KFqwgxfkI9qG"
      },
      "source": [
        "# Support Vector Machines\n",
        "\n",
        "In this section of the assignment, you will get to implement Support Vector Machines which are among the best (and many believe are indeed the best) “off-the-shelf” supervised learning algorithm.\n",
        "\n",
        "This section is further divided into 3 subsections.\n",
        "\n",
        "\n",
        "*   In the first subsection, you will work on a synthetic dataset and visualize the boundary predicted by SVM. You will also vary the value of C-parameter and see how the decision boundary changes. **Please note that you cannot use inbuilt sklearn function for SVM in this sub-section**. You can only use a QCQP (Quadratically Constrained Quadratic Program) solver like CVXPY. \n",
        "\n",
        "  References which you may find helpful for this subsection: \n",
        "  \n",
        "  1.   https://www.cvxpy.org/\n",
        "  2.   https://www.cvxpy.org/examples/basic/quadratic_program.html\n",
        "\n",
        "  Note that in this section you are expected to show how you derived the Quadratically Constrained form(which can be passed into the solver) from the basic principles of SVM algorithm\n",
        "*  In the next subsection you will use be using the famous MNIST dataset to explore various kernels and report the results. **Please note you may use inbuilt sklearn SVM functions in this subsection**\n"
      ]
    },
    {
      "cell_type": "code",
      "metadata": {
        "id": "Ub9ArRIDI9qR",
        "colab": {
          "base_uri": "https://localhost:8080/"
        },
        "outputId": "b9321fc7-7762-46f9-fa5b-6fe1619d284b"
      },
      "source": [
        "!pip3 install numpy\n",
        "!pip3 install matplotlib\n",
        "!pip3 install cvxpy\n",
        "import numpy as np\n",
        "import cvxpy as cp\n",
        "import matplotlib.pyplot as plt"
      ],
      "execution_count": 1,
      "outputs": [
        {
          "output_type": "stream",
          "name": "stdout",
          "text": [
            "Requirement already satisfied: numpy in /usr/local/lib/python3.7/dist-packages (1.19.5)\n",
            "Requirement already satisfied: matplotlib in /usr/local/lib/python3.7/dist-packages (3.2.2)\n",
            "Requirement already satisfied: pyparsing!=2.0.4,!=2.1.2,!=2.1.6,>=2.0.1 in /usr/local/lib/python3.7/dist-packages (from matplotlib) (3.0.6)\n",
            "Requirement already satisfied: cycler>=0.10 in /usr/local/lib/python3.7/dist-packages (from matplotlib) (0.11.0)\n",
            "Requirement already satisfied: kiwisolver>=1.0.1 in /usr/local/lib/python3.7/dist-packages (from matplotlib) (1.3.2)\n",
            "Requirement already satisfied: numpy>=1.11 in /usr/local/lib/python3.7/dist-packages (from matplotlib) (1.19.5)\n",
            "Requirement already satisfied: python-dateutil>=2.1 in /usr/local/lib/python3.7/dist-packages (from matplotlib) (2.8.2)\n",
            "Requirement already satisfied: six>=1.5 in /usr/local/lib/python3.7/dist-packages (from python-dateutil>=2.1->matplotlib) (1.15.0)\n",
            "Requirement already satisfied: cvxpy in /usr/local/lib/python3.7/dist-packages (1.0.31)\n",
            "Requirement already satisfied: numpy>=1.15 in /usr/local/lib/python3.7/dist-packages (from cvxpy) (1.19.5)\n",
            "Requirement already satisfied: ecos>=2 in /usr/local/lib/python3.7/dist-packages (from cvxpy) (2.0.7.post1)\n",
            "Requirement already satisfied: multiprocess in /usr/local/lib/python3.7/dist-packages (from cvxpy) (0.70.12.2)\n",
            "Requirement already satisfied: scipy>=1.1.0 in /usr/local/lib/python3.7/dist-packages (from cvxpy) (1.4.1)\n",
            "Requirement already satisfied: scs>=1.1.3 in /usr/local/lib/python3.7/dist-packages (from cvxpy) (2.1.4)\n",
            "Requirement already satisfied: osqp>=0.4.1 in /usr/local/lib/python3.7/dist-packages (from cvxpy) (0.6.2.post0)\n",
            "Requirement already satisfied: qdldl in /usr/local/lib/python3.7/dist-packages (from osqp>=0.4.1->cvxpy) (0.1.5.post0)\n",
            "Requirement already satisfied: dill>=0.3.4 in /usr/local/lib/python3.7/dist-packages (from multiprocess->cvxpy) (0.3.4)\n"
          ]
        }
      ]
    },
    {
      "cell_type": "markdown",
      "metadata": {
        "id": "GasJBLV5I9qf"
      },
      "source": [
        "### Subsection 1"
      ]
    },
    {
      "cell_type": "code",
      "metadata": {
        "id": "eulkE0pTI9qg"
      },
      "source": [
        "# Feel free to use this helper function to visualize 2D points X with labels +1 or -1\n",
        "def plot_points(X, Y):\n",
        "    reds = []\n",
        "    blues = []\n",
        "    for i in range(Y.shape[0]):\n",
        "        if Y[i] == 1:\n",
        "            reds.append(X[i])\n",
        "        else:\n",
        "            blues.append(X[i])\n",
        "    reds = np.array(reds)\n",
        "    blues = np.array(blues)\n",
        "    plt.scatter(reds[:, 0], reds[:, 1], c = 'r')\n",
        "    plt.scatter(blues[:, 0], blues[:, 1], c = 'b')"
      ],
      "execution_count": 2,
      "outputs": []
    },
    {
      "cell_type": "code",
      "metadata": {
        "id": "rpWOqtHjI9qi",
        "colab": {
          "base_uri": "https://localhost:8080/",
          "height": 265
        },
        "outputId": "2a5cb3c0-67fd-4430-8279-b85f65487a76"
      },
      "source": [
        "# Create Synthetic Data and visualize the points\n",
        "X = np.array([[-3.5, -1], [-3, 0], [-3, 1], [-2.7, -1.3], [-2, -1], [-2, -2.7], \n",
        "              [-1, -2.5], [0, -3], [-1.1, 0], [0, 2.5], [1, 2], [0.7, 4], \n",
        "              [2.1, 0.2], [2.3, 1], [2.8, 1.8], [2.2, 2.8]])\n",
        "y = np.array([1, 1, 1, 1, 1, 1, 1, 1, -1, -1, -1, -1, -1, -1, -1, -1])\n",
        "\n",
        "plot_points(X, y)\n",
        "plt.show()"
      ],
      "execution_count": 3,
      "outputs": [
        {
          "output_type": "display_data",
          "data": {
            "image/png": "[encoded data removed]",
            "text/plain": [
              "<Figure size 432x288 with 1 Axes>"
            ]
          },
          "metadata": {
            "needs_background": "light"
          }
        }
      ]
    },
    {
      "cell_type": "markdown",
      "metadata": {
        "id": "qkXWnVMuI9qk"
      },
      "source": [
        "In the next cell you are required to derive the Quadratic Constrained Quadratic form of SVM **without soft constraints** from the basic principles. Start with the idea that SVM tries to maximize the margin and then derive the form which you can feed to the solver.\n",
        "\n",
        "Please print the values of w, b. \n",
        "\n",
        "**Note: You are also required to upload a page of the derivation. You may also type it in markdown here.**\n",
        "\n",
        "**Note: You cannot use sklearn SVM functions here.**"
      ]
    },
    {
      "cell_type": "code",
      "metadata": {
        "id": "cL-jVJH8I9ql",
        "colab": {
          "base_uri": "https://localhost:8080/"
        },
        "outputId": "808b5589-a56e-4647-9dec-320cbfe95c88"
      },
      "source": [
        "w =cp.Variable((2,1))\n",
        "b= cp.Variable()\n",
        "obj=cp.Minimize(cp.norm(w,2))\n",
        "constraints= [ y[i]*(w.T * X[i] + b)>=1 for i in range(len(y))]\n",
        "\n",
        "prob = cp.Problem(obj, constraints)\n",
        "\n",
        "prob.solve()\n",
        "print(\"Problem Status: %s\"%prob.status)\n",
        "# finding optimal w and b values using constraints\n",
        "p = w.value\n",
        "q = b.value\n",
        "print(f\"w={p}\\n\")\n",
        "print(f\"b={q}\")\n"
      ],
      "execution_count": 4,
      "outputs": [
        {
          "output_type": "stream",
          "name": "stdout",
          "text": [
            "Problem Status: optimal\n",
            "w=[[-1.73913043]\n",
            " [-1.30434783]]\n",
            "\n",
            "b=-2.9130434783188317\n"
          ]
        }
      ]
    },
    {
      "cell_type": "markdown",
      "metadata": {
        "id": "E1qoXcdDI9qm"
      },
      "source": [
        "In the next cell you are required to visualize the boundary predicted by the solver. You may want to revise up on how to plot the a line given w, b. Please plot w vector as well as the margin lines\n",
        "\n",
        "You may want to create a function to plot the line of separation as you would require this frequently in the subsequent parts of the assignment."
      ]
    },
    {
      "cell_type": "code",
      "metadata": {
        "id": "X3271BtYI9qo",
        "colab": {
          "base_uri": "https://localhost:8080/",
          "height": 265
        },
        "outputId": "a6b68d33-d180-43e5-e65c-eec721272efb"
      },
      "source": [
        "\n",
        "# plotting seperating line and supporting vectors\n",
        "def plotline(p,q,onlyline=0):\n",
        "  x = np.linspace(-4, 4, 20)\n",
        "  m = -1*(p[0]/p[1])\n",
        "  c = -1/p[1]\n",
        "  plt.plot(x, m*x+ q*c , 'm')\n",
        "  if not onlyline:\n",
        "    plt.plot(x, m*x + (q+1)*c ,'g--')\n",
        "    plt.plot(x, m*x + (q-1)*c , 'y--')\n",
        "\n",
        "plotline(p,q)\n",
        "plot_points(X, y)\n",
        "plt.show()"
      ],
      "execution_count": 5,
      "outputs": [
        {
          "output_type": "display_data",
          "data": {
            "image/png": "[encoded data removed]",
            "text/plain": [
              "<Figure size 432x288 with 1 Axes>"
            ]
          },
          "metadata": {
            "needs_background": "light"
          }
        }
      ]
    },
    {
      "cell_type": "markdown",
      "metadata": {
        "id": "NnSqBDqqI9qp"
      },
      "source": [
        "In the next cell please plot only the support vectors along with the boundary, w vector, and margins. \n",
        "\n",
        "**Note: You are not supposed to hard-code the points here.**"
      ]
    },
    {
      "cell_type": "code",
      "metadata": {
        "id": "wPBNQB-DI9qq",
        "colab": {
          "base_uri": "https://localhost:8080/",
          "height": 265
        },
        "outputId": "b3927a0d-d40e-4feb-9057-fd9e3947567b"
      },
      "source": [
        "plotline(p,q)\n",
        "spx=[]\n",
        "spy=[]\n",
        "m = -1*(p[0]/p[1])\n",
        "c = -1/p[1]\n",
        "for i in range(len(X)):\n",
        "  sx,sy=X[i]\n",
        "  if m*sx + (q+1)*c-0.01<=sy<= m*sx + (q+1)*c+0.01 or m*sx + (q-1)*c-0.01<=sy<= m*sx + (q-1)*c+0.01:\n",
        "    spx.append(X[i])\n",
        "    spy.append(y[i])\n",
        "plot_points(np.array(spx), np.array(spy,dtype=int))\n",
        "plt.show()"
      ],
      "execution_count": 6,
      "outputs": [
        {
          "output_type": "display_data",
          "data": {
            "image/png": "[encoded data removed]",
            "text/plain": [
              "<Figure size 432x288 with 1 Axes>"
            ]
          },
          "metadata": {
            "needs_background": "light"
          }
        }
      ]
    },
    {
      "cell_type": "markdown",
      "metadata": {
        "id": "x0Kso1FfI9qs"
      },
      "source": [
        "In the next cell add the following points:\n",
        "* (-4, -10) with label 1\n",
        "* (4, 4) with label -1\n",
        "\n",
        "Is the decision boundary changed after adding the points? Explain your observations theoretically."
      ]
    },
    {
      "cell_type": "code",
      "metadata": {
        "id": "m4V4ea1-I9qs",
        "colab": {
          "base_uri": "https://localhost:8080/",
          "height": 265
        },
        "outputId": "7c2afea9-7c34-4b48-f2cd-94dd3448b4aa"
      },
      "source": [
        "newX=X.tolist()\n",
        "newy=y.tolist()\n",
        "newX.append([-4,-10])\n",
        "newX.append([4,4])\n",
        "newy.append(1)\n",
        "newy.append(-1)\n",
        "newX=np.array(newX)\n",
        "newy=np.array(newy)\n",
        "plot_points(newX, newy)\n",
        "plt.show()"
      ],
      "execution_count": 7,
      "outputs": [
        {
          "output_type": "display_data",
          "data": {
            "image/png": "[encoded data removed]",
            "text/plain": [
              "<Figure size 432x288 with 1 Axes>"
            ]
          },
          "metadata": {
            "needs_background": "light"
          }
        }
      ]
    },
    {
      "cell_type": "code",
      "metadata": {
        "id": "sW93Z-FiI9qt",
        "colab": {
          "base_uri": "https://localhost:8080/",
          "height": 375
        },
        "outputId": "51bccfb6-2d60-4c45-b5b5-ad091ecbec51"
      },
      "source": [
        "w =cp.Variable((2,1))\n",
        "b= cp.Variable()\n",
        "obj=cp.Minimize(cp.norm(w,2))\n",
        "print(len(newy))\n",
        "constraints= [ newy[i]*(w.T * newX[i] + b)>=1 for i in range(len(newy))]\n",
        "\n",
        "prob = cp.Problem(obj, constraints)\n",
        "\n",
        "prob.solve()\n",
        "print(\"Problem Status: %s\"%prob.status)\n",
        "# finding optimal w and b values using constraints\n",
        "p = w.value\n",
        "q = b.value\n",
        "print(f\"w={p}\\n\")\n",
        "print(f\"b={q}\")\n",
        "plotline(p,q)\n",
        "plot_points(newX, newy)\n",
        "plt.show()"
      ],
      "execution_count": 8,
      "outputs": [
        {
          "output_type": "stream",
          "name": "stdout",
          "text": [
            "18\n",
            "Problem Status: optimal\n",
            "w=[[-1.73913044]\n",
            " [-1.30434783]]\n",
            "\n",
            "b=-2.9130434790774022\n"
          ]
        },
        {
          "output_type": "display_data",
          "data": {
            "image/png": "[encoded data removed]",
            "text/plain": [
              "<Figure size 432x288 with 1 Axes>"
            ]
          },
          "metadata": {
            "needs_background": "light"
          }
        }
      ]
    },
    {
      "cell_type": "markdown",
      "metadata": {
        "id": "jaRPcVqQiOnf"
      },
      "source": [
        "Ans: We can clearly see that w, b are same as above i.e the seperating line is not changed. Because we are adding points with labels as same as the label classified by the seperating line. i.e (4,4) adds above the line so the seperating line labels it as -1 and label given is also -1, similarly for (-4,-10). so the seperating line will not be changed."
      ]
    },
    {
      "cell_type": "markdown",
      "metadata": {
        "id": "AiepQDo3I9qu"
      },
      "source": [
        "In the next cell you are required to modify your framing of optimisation problem to incorporate soft constraints also known as slack. Plot the decision boundary, w and margin lines for various values of C: $0.01$, $0.1$, $3$, $10$, $100$.\n",
        "\n",
        "Explain your results theoretically. How does the boundary change with varying values of C? Why?\n",
        "\n",
        "**Note: Use the modified X and y i.e after adding points in previous cell.**"
      ]
    },
    {
      "cell_type": "code",
      "metadata": {
        "id": "YnKIz8rPh1iM"
      },
      "source": [
        "def solveSoft(newX,newy,C,onlyline=0):\n",
        "  n=len(newy)\n",
        "  w =cp.Variable((2,1))\n",
        "  b= cp.Variable()\n",
        "  e=cp.Variable((n,1))\n",
        "  obj=cp.Minimize(0.5 * cp.norm(w)**2 + C * cp.sum(e))\n",
        "  print(len(newy))\n",
        "  constraints= [ newy[i]*(w.T * newX[i] + b)>=(1-e[i]) for i in range(len(newy))]\n",
        "  constraints+= [e[i]>=0 for i in range(len(newy))]\n",
        "  prob = cp.Problem(obj, constraints)\n",
        "  prob.solve()\n",
        "  print(\"Problem Status: %s\"%prob.status)\n",
        "  # finding optimal w and b values using constraints\n",
        "  p = w.value\n",
        "  q = b.value\n",
        "  print(f\"w={p}\\n\")\n",
        "  print(f\"b={q}\")\n",
        "  plotline(p,q,onlyline)\n",
        "  plot_points(newX, newy)\n",
        "  plt.show()\n",
        "  return p,q"
      ],
      "execution_count": 50,
      "outputs": []
    },
    {
      "cell_type": "code",
      "metadata": {
        "id": "TVEix42nI9qu",
        "colab": {
          "base_uri": "https://localhost:8080/",
          "height": 411
        },
        "outputId": "9510a91b-06e3-43db-c4c8-201d4fae2a4e"
      },
      "source": [
        "solveSoft(newX,newy,0.01)"
      ],
      "execution_count": 51,
      "outputs": [
        {
          "output_type": "stream",
          "name": "stdout",
          "text": [
            "18\n",
            "Problem Status: optimal\n",
            "w=[[-0.22506809]\n",
            " [-0.19858949]]\n",
            "\n",
            "b=0.013672204267370152\n"
          ]
        },
        {
          "output_type": "display_data",
          "data": {
            "image/png": "[encoded data removed]",
            "text/plain": [
              "<Figure size 432x288 with 1 Axes>"
            ]
          },
          "metadata": {
            "needs_background": "light"
          }
        },
        {
          "output_type": "execute_result",
          "data": {
            "text/plain": [
              "(array([[-0.22506809],\n",
              "        [-0.19858949]]), array(0.0136722))"
            ]
          },
          "metadata": {},
          "execution_count": 51
        }
      ]
    },
    {
      "cell_type": "code",
      "metadata": {
        "id": "f8tdPNMAI9qv",
        "colab": {
          "base_uri": "https://localhost:8080/",
          "height": 413
        },
        "outputId": "30a8189d-564f-4e88-c583-fe6e6153f7f8"
      },
      "source": [
        "solveSoft(newX,newy,0.1)"
      ],
      "execution_count": 52,
      "outputs": [
        {
          "output_type": "stream",
          "name": "stdout",
          "text": [
            "18\n",
            "Problem Status: optimal\n",
            "w=[[-0.38493724]\n",
            " [-0.35146444]]\n",
            "\n",
            "b=-0.12133891201898916\n"
          ]
        },
        {
          "output_type": "display_data",
          "data": {
            "image/png": "[encoded data removed]",
            "text/plain": [
              "<Figure size 432x288 with 1 Axes>"
            ]
          },
          "metadata": {
            "needs_background": "light"
          }
        },
        {
          "output_type": "execute_result",
          "data": {
            "text/plain": [
              "(array([[-0.38493724],\n",
              "        [-0.35146444]]), array(-0.12133891))"
            ]
          },
          "metadata": {},
          "execution_count": 52
        }
      ]
    },
    {
      "cell_type": "code",
      "metadata": {
        "id": "Xf5hfxRRI9qw",
        "colab": {
          "base_uri": "https://localhost:8080/",
          "height": 411
        },
        "outputId": "a0438d78-51ec-41e9-cd19-a795fbfa31b9"
      },
      "source": [
        "solveSoft(newX,newy,3)"
      ],
      "execution_count": 53,
      "outputs": [
        {
          "output_type": "stream",
          "name": "stdout",
          "text": [
            "18\n",
            "Problem Status: optimal\n",
            "w=[[-1.73913043]\n",
            " [-1.30434783]]\n",
            "\n",
            "b=-2.9130434782869634\n"
          ]
        },
        {
          "output_type": "display_data",
          "data": {
            "image/png": "[encoded data removed]",
            "text/plain": [
              "<Figure size 432x288 with 1 Axes>"
            ]
          },
          "metadata": {
            "needs_background": "light"
          }
        },
        {
          "output_type": "execute_result",
          "data": {
            "text/plain": [
              "(array([[-1.73913043],\n",
              "        [-1.30434783]]), array(-2.91304348))"
            ]
          },
          "metadata": {},
          "execution_count": 53
        }
      ]
    },
    {
      "cell_type": "code",
      "metadata": {
        "id": "qecGoXdnI9qx",
        "colab": {
          "base_uri": "https://localhost:8080/",
          "height": 411
        },
        "outputId": "c39cf19e-9bbc-4997-f687-048560ea5c1f"
      },
      "source": [
        "solveSoft(newX,newy,10)"
      ],
      "execution_count": 54,
      "outputs": [
        {
          "output_type": "stream",
          "name": "stdout",
          "text": [
            "18\n",
            "Problem Status: optimal\n",
            "w=[[-1.73913043]\n",
            " [-1.30434783]]\n",
            "\n",
            "b=-2.9130434783574235\n"
          ]
        },
        {
          "output_type": "display_data",
          "data": {
            "image/png": "[encoded data removed]",
            "text/plain": [
              "<Figure size 432x288 with 1 Axes>"
            ]
          },
          "metadata": {
            "needs_background": "light"
          }
        },
        {
          "output_type": "execute_result",
          "data": {
            "text/plain": [
              "(array([[-1.73913043],\n",
              "        [-1.30434783]]), array(-2.91304348))"
            ]
          },
          "metadata": {},
          "execution_count": 54
        }
      ]
    },
    {
      "cell_type": "code",
      "metadata": {
        "id": "cO3_kVe9I9qy",
        "colab": {
          "base_uri": "https://localhost:8080/",
          "height": 375
        },
        "outputId": "03560342-6c46-4943-890d-de59d58a7188"
      },
      "source": [
        "w1,b1=solveSoft(newX,newy,100)"
      ],
      "execution_count": 55,
      "outputs": [
        {
          "output_type": "stream",
          "name": "stdout",
          "text": [
            "18\n",
            "Problem Status: optimal\n",
            "w=[[-1.73913044]\n",
            " [-1.30434783]]\n",
            "\n",
            "b=-2.9130434786825745\n"
          ]
        },
        {
          "output_type": "display_data",
          "data": {
            "image/png": "[encoded data removed]",
            "text/plain": [
              "<Figure size 432x288 with 1 Axes>"
            ]
          },
          "metadata": {
            "needs_background": "light"
          }
        }
      ]
    },
    {
      "cell_type": "markdown",
      "metadata": {
        "id": "K7crSrYuI9qy"
      },
      "source": [
        "Take the case of C = 100 and remove the support vectors. Does the boundary change after the deletion?\n",
        "Explain why? Show your results by appropriate plots?\n",
        "\n",
        "**Ans:** From the above plot we can see that 3 points are support vectors, those are lying on the margin line, if those support vectors are removed then the margins will grow larger until they have points on them, i,e until they find new support vectors, as the margins moves and also not symmetrically, so the decision boundary also moves."
      ]
    },
    {
      "cell_type": "code",
      "metadata": {
        "id": "DxC0xdsEI9qz",
        "colab": {
          "base_uri": "https://localhost:8080/",
          "height": 413
        },
        "outputId": "e64d4e1c-934e-4d9d-bd9c-796c1f451854"
      },
      "source": [
        "delp = []\n",
        "for i in range(len(newX)):\n",
        "    if abs(newX[i][0]*w1[0]+newX[i][1]*w1[1] + b1 + 1) < 0.00001 or abs(newX[i][0]*w1[0]+newX[i][1]*w1[1] + b1 - 1) < 0.00001:\n",
        "        delp.append(i)\n",
        "newX1 = np.delete(newX, delp , axis=0)\n",
        "newy1 = np.delete(newy, delp)\n",
        "solveSoft(newX1,newy1,100)"
      ],
      "execution_count": 56,
      "outputs": [
        {
          "output_type": "stream",
          "name": "stdout",
          "text": [
            "15\n",
            "Problem Status: optimal\n",
            "w=[[-0.38493724]\n",
            " [-0.35146444]]\n",
            "\n",
            "b=-0.12133891214351254\n"
          ]
        },
        {
          "output_type": "display_data",
          "data": {
            "image/png": "[encoded data removed]",
            "text/plain": [
              "<Figure size 432x288 with 1 Axes>"
            ]
          },
          "metadata": {
            "needs_background": "light"
          }
        },
        {
          "output_type": "execute_result",
          "data": {
            "text/plain": [
              "(array([[-0.38493724],\n",
              "        [-0.35146444]]), array(-0.12133891))"
            ]
          },
          "metadata": {},
          "execution_count": 56
        }
      ]
    },
    {
      "cell_type": "markdown",
      "metadata": {
        "id": "7goMP4wFI9q0"
      },
      "source": [
        "### Subsection 2"
      ]
    },
    {
      "cell_type": "code",
      "metadata": {
        "id": "PZdBRpHuI9q0",
        "colab": {
          "base_uri": "https://localhost:8080/"
        },
        "outputId": "b68888a4-309f-441a-b684-88a3ce921421"
      },
      "source": [
        "!pip install python-mnist\n",
        "!rm -rf samples\n",
        "!mkdir samples\n",
        "!wget http://yann.lecun.com/exdb/mnist/train-images-idx3-ubyte.gz -P samples/\n",
        "!gunzip samples/train-images-idx3-ubyte.gz\n",
        "!wget http://yann.lecun.com/exdb/mnist/train-labels-idx1-ubyte.gz -P samples/\n",
        "!gunzip samples/train-labels-idx1-ubyte.gz\n",
        "!wget http://yann.lecun.com/exdb/mnist/t10k-images-idx3-ubyte.gz -P samples/\n",
        "!gunzip samples/t10k-images-idx3-ubyte.gz\n",
        "!wget http://yann.lecun.com/exdb/mnist/t10k-labels-idx1-ubyte.gz -P samples/\n",
        "!gunzip samples/t10k-labels-idx1-ubyte.gz"
      ],
      "execution_count": null,
      "outputs": [
        {
          "output_type": "stream",
          "name": "stdout",
          "text": [
            "Collecting python-mnist\n",
            "  Downloading python_mnist-0.7-py2.py3-none-any.whl (9.6 kB)\n",
            "Installing collected packages: python-mnist\n",
            "Successfully installed python-mnist-0.7\n",
            "--2021-12-03 16:09:16--  http://yann.lecun.com/exdb/mnist/train-images-idx3-ubyte.gz\n",
            "Resolving yann.lecun.com (yann.lecun.com)... 104.21.29.36, 172.67.171.76, 2606:4700:3036::ac43:ab4c, ...\n",
            "Connecting to yann.lecun.com (yann.lecun.com)|104.21.29.36|:80... connected.\n",
            "HTTP request sent, awaiting response... 200 OK\n",
            "Length: 9912422 (9.5M) [application/x-gzip]\n",
            "Saving to: ‘samples/train-images-idx3-ubyte.gz’\n",
            "\n",
            "train-images-idx3-u 100%[===================>]   9.45M  --.-KB/s    in 0.1s    \n",
            "\n",
            "2021-12-03 16:09:16 (88.3 MB/s) - ‘samples/train-images-idx3-ubyte.gz’ saved [9912422/9912422]\n",
            "\n",
            "--2021-12-03 16:09:17--  http://yann.lecun.com/exdb/mnist/train-labels-idx1-ubyte.gz\n",
            "Resolving yann.lecun.com (yann.lecun.com)... 104.21.29.36, 172.67.171.76, 2606:4700:3036::ac43:ab4c, ...\n",
            "Connecting to yann.lecun.com (yann.lecun.com)|104.21.29.36|:80... connected.\n",
            "HTTP request sent, awaiting response... 200 OK\n",
            "Length: 28881 (28K) [application/x-gzip]\n",
            "Saving to: ‘samples/train-labels-idx1-ubyte.gz’\n",
            "\n",
            "train-labels-idx1-u 100%[===================>]  28.20K  --.-KB/s    in 0s      \n",
            "\n",
            "2021-12-03 16:09:17 (289 MB/s) - ‘samples/train-labels-idx1-ubyte.gz’ saved [28881/28881]\n",
            "\n",
            "--2021-12-03 16:09:17--  http://yann.lecun.com/exdb/mnist/t10k-images-idx3-ubyte.gz\n",
            "Resolving yann.lecun.com (yann.lecun.com)... 104.21.29.36, 172.67.171.76, 2606:4700:3036::ac43:ab4c, ...\n",
            "Connecting to yann.lecun.com (yann.lecun.com)|104.21.29.36|:80... connected.\n",
            "HTTP request sent, awaiting response... 200 OK\n",
            "Length: 1648877 (1.6M) [application/x-gzip]\n",
            "Saving to: ‘samples/t10k-images-idx3-ubyte.gz’\n",
            "\n",
            "t10k-images-idx3-ub 100%[===================>]   1.57M  --.-KB/s    in 0.06s   \n",
            "\n",
            "2021-12-03 16:09:17 (27.4 MB/s) - ‘samples/t10k-images-idx3-ubyte.gz’ saved [1648877/1648877]\n",
            "\n",
            "--2021-12-03 16:09:17--  http://yann.lecun.com/exdb/mnist/t10k-labels-idx1-ubyte.gz\n",
            "Resolving yann.lecun.com (yann.lecun.com)... 104.21.29.36, 172.67.171.76, 2606:4700:3036::ac43:ab4c, ...\n",
            "Connecting to yann.lecun.com (yann.lecun.com)|104.21.29.36|:80... connected.\n",
            "HTTP request sent, awaiting response... 200 OK\n",
            "Length: 4542 (4.4K) [application/x-gzip]\n",
            "Saving to: ‘samples/t10k-labels-idx1-ubyte.gz’\n",
            "\n",
            "t10k-labels-idx1-ub 100%[===================>]   4.44K  --.-KB/s    in 0s      \n",
            "\n",
            "2021-12-03 16:09:17 (350 MB/s) - ‘samples/t10k-labels-idx1-ubyte.gz’ saved [4542/4542]\n",
            "\n"
          ]
        }
      ]
    },
    {
      "cell_type": "code",
      "metadata": {
        "id": "0XjsnEzVI9q1"
      },
      "source": [
        "# Import Relevant Packages\n",
        "from sklearn.svm import SVC\n",
        "import numpy as np\n",
        "from sklearn.metrics import accuracy_score,f1_score,confusion_matrix,precision_score,recall_score,classification_report\n",
        "from mnist.loader import MNIST"
      ],
      "execution_count": null,
      "outputs": []
    },
    {
      "cell_type": "code",
      "metadata": {
        "id": "WvXDgQXsI9q1",
        "colab": {
          "base_uri": "https://localhost:8080/"
        },
        "outputId": "3af4d305-36c3-42f0-c365-290961fb7598"
      },
      "source": [
        "mndata = MNIST('samples')\n",
        "\n",
        "# Load training dataset\n",
        "images, labels = mndata.load_training()\n",
        "l = len(labels)\n",
        "images_train = np.array(images)\n",
        "labels_train = np.array(labels)\n",
        "\n",
        "print(images_train.shape)\n",
        "print(labels_train.shape)"
      ],
      "execution_count": null,
      "outputs": [
        {
          "output_type": "stream",
          "name": "stdout",
          "text": [
            "(60000, 784)\n",
            "(60000,)\n"
          ]
        }
      ]
    },
    {
      "cell_type": "code",
      "metadata": {
        "id": "pqZ5EG36I9q2",
        "colab": {
          "base_uri": "https://localhost:8080/"
        },
        "outputId": "dabe59af-5b9c-4dcc-fef6-d7def0c27009"
      },
      "source": [
        "# Load testing dataset\n",
        "images, labels = mndata.load_testing()\n",
        "l = len(labels)\n",
        "images_test = np.array(images)\n",
        "labels_test = np.array(labels)\n",
        "\n",
        "print(images_test.shape)\n",
        "print(labels_test.shape)"
      ],
      "execution_count": null,
      "outputs": [
        {
          "output_type": "stream",
          "name": "stdout",
          "text": [
            "(10000, 784)\n",
            "(10000,)\n"
          ]
        }
      ]
    },
    {
      "cell_type": "code",
      "metadata": {
        "colab": {
          "base_uri": "https://localhost:8080/"
        },
        "id": "nMJZs_Bxo5-A",
        "outputId": "938f42ef-005d-48d0-fabb-9e4e96462152"
      },
      "source": [
        "model=SVC(kernel='linear', C=1E10)\n",
        "X_train=images_train[:10000]\n",
        "y_train=labels_train[:10000]\n",
        "model.fit(X_train,y_train)"
      ],
      "execution_count": null,
      "outputs": [
        {
          "output_type": "execute_result",
          "data": {
            "text/plain": [
              "SVC(C=10000000000.0, kernel='linear')"
            ]
          },
          "metadata": {},
          "execution_count": 21
        }
      ]
    },
    {
      "cell_type": "code",
      "metadata": {
        "id": "jZuIaudNs7St"
      },
      "source": [
        "X_test=images_test[:8000]\n",
        "y_test=labels_test[:8000]\n",
        "y_pred=model.predict(X_test)\n"
      ],
      "execution_count": null,
      "outputs": []
    },
    {
      "cell_type": "markdown",
      "metadata": {
        "id": "N8F6VkaLI9q3"
      },
      "source": [
        "- Tweak different parameters like the C Parameter and gamma parameter of the Linear SVM and report the results.\n",
        "- Experiment different kernels for classification and report the results.\n",
        "\n",
        "Report accuracy score, F1-score, Confusion matrix and any other metrics you feel useful."
      ]
    },
    {
      "cell_type": "code",
      "metadata": {
        "id": "CztJyLokI9q3",
        "colab": {
          "base_uri": "https://localhost:8080/"
        },
        "outputId": "a5c69ffa-eab9-4945-838c-d0b9e1f08850"
      },
      "source": [
        "print(classification_report(y_test,y_pred))\n",
        "print(\"Confusion Matrix:\\n\")\n",
        "print(confusion_matrix(y_test,y_pred))"
      ],
      "execution_count": null,
      "outputs": [
        {
          "output_type": "stream",
          "name": "stdout",
          "text": [
            "              precision    recall  f1-score   support\n",
            "\n",
            "           0       0.94      0.97      0.96       773\n",
            "           1       0.95      0.99      0.97       905\n",
            "           2       0.90      0.90      0.90       834\n",
            "           3       0.84      0.89      0.87       803\n",
            "           4       0.89      0.94      0.92       788\n",
            "           5       0.89      0.83      0.86       723\n",
            "           6       0.94      0.94      0.94       756\n",
            "           7       0.91      0.90      0.91       813\n",
            "           8       0.89      0.84      0.87       787\n",
            "           9       0.91      0.84      0.88       818\n",
            "\n",
            "    accuracy                           0.91      8000\n",
            "   macro avg       0.91      0.91      0.91      8000\n",
            "weighted avg       0.91      0.91      0.91      8000\n",
            "\n",
            "Confusion Matrix:\n",
            "\n",
            "[[750   0   6   0   0   6   7   2   1   1]\n",
            " [  0 893   1   2   0   2   3   1   3   0]\n",
            " [  5   8 753   9   9   3  12  10  23   2]\n",
            " [  3   2  26 713   2  22   2   9  20   4]\n",
            " [  2   1  11   0 743   0   5   4   2  20]\n",
            " [  9   5   6  54   8 601   9   1  24   6]\n",
            " [ 10   3  11   0   8  11 711   0   1   1]\n",
            " [  3   9  15  13   8   0   0 734   5  26]\n",
            " [  6  13   9  39   9  24   8   5 665   9]\n",
            " [  7   7   2  14  45   6   1  42   4 690]]\n"
          ]
        }
      ]
    },
    {
      "cell_type": "code",
      "metadata": {
        "colab": {
          "base_uri": "https://localhost:8080/"
        },
        "id": "wJqGIUgEt0Om",
        "outputId": "f204f754-23ac-43e4-da1c-4721fe06baf6"
      },
      "source": [
        "parameters = {'SVM_C':[0.01,0.1,10,10e5], 'SVM_gamma':[10,1,0.1,0.01]}\n",
        "\n",
        "for c in parameters['SVM_C']:\n",
        "  for g in parameters['SVM_gamma']:\n",
        "    model=SVC(kernel='linear', C=c,gamma=g)\n",
        "    model.fit(X_train,y_train)\n",
        "    y_pred=model.predict(X_test)\n",
        "    print(model)\n",
        "    print(classification_report(y_test,y_pred))\n",
        "    print(\"Confusion Matrix:\\n\")\n",
        "    print(confusion_matrix(y_test,y_pred))"
      ],
      "execution_count": null,
      "outputs": [
        {
          "output_type": "stream",
          "name": "stdout",
          "text": [
            "SVC(C=0.01, gamma=10, kernel='linear')\n",
            "              precision    recall  f1-score   support\n",
            "\n",
            "           0       0.94      0.97      0.96       773\n",
            "           1       0.95      0.99      0.97       905\n",
            "           2       0.90      0.90      0.90       834\n",
            "           3       0.84      0.89      0.87       803\n",
            "           4       0.89      0.94      0.92       788\n",
            "           5       0.89      0.83      0.86       723\n",
            "           6       0.94      0.94      0.94       756\n",
            "           7       0.91      0.90      0.91       813\n",
            "           8       0.89      0.84      0.87       787\n",
            "           9       0.91      0.84      0.88       818\n",
            "\n",
            "    accuracy                           0.91      8000\n",
            "   macro avg       0.91      0.91      0.91      8000\n",
            "weighted avg       0.91      0.91      0.91      8000\n",
            "\n",
            "Confusion Matrix:\n",
            "\n",
            "[[750   0   6   0   0   6   7   2   1   1]\n",
            " [  0 893   1   2   0   2   3   1   3   0]\n",
            " [  5   8 753   9   9   3  12  10  23   2]\n",
            " [  3   2  26 713   2  22   2   9  20   4]\n",
            " [  2   1  11   0 743   0   5   4   2  20]\n",
            " [  9   5   6  54   8 601   9   1  24   6]\n",
            " [ 10   3  11   0   8  11 711   0   1   1]\n",
            " [  3   9  15  13   8   0   0 734   5  26]\n",
            " [  6  13   9  39   9  24   8   5 665   9]\n",
            " [  7   7   2  14  45   6   1  42   4 690]]\n",
            "SVC(C=0.01, gamma=1, kernel='linear')\n",
            "              precision    recall  f1-score   support\n",
            "\n",
            "           0       0.94      0.97      0.96       773\n",
            "           1       0.95      0.99      0.97       905\n",
            "           2       0.90      0.90      0.90       834\n",
            "           3       0.84      0.89      0.87       803\n",
            "           4       0.89      0.94      0.92       788\n",
            "           5       0.89      0.83      0.86       723\n",
            "           6       0.94      0.94      0.94       756\n",
            "           7       0.91      0.90      0.91       813\n",
            "           8       0.89      0.84      0.87       787\n",
            "           9       0.91      0.84      0.88       818\n",
            "\n",
            "    accuracy                           0.91      8000\n",
            "   macro avg       0.91      0.91      0.91      8000\n",
            "weighted avg       0.91      0.91      0.91      8000\n",
            "\n",
            "Confusion Matrix:\n",
            "\n",
            "[[750   0   6   0   0   6   7   2   1   1]\n",
            " [  0 893   1   2   0   2   3   1   3   0]\n",
            " [  5   8 753   9   9   3  12  10  23   2]\n",
            " [  3   2  26 713   2  22   2   9  20   4]\n",
            " [  2   1  11   0 743   0   5   4   2  20]\n",
            " [  9   5   6  54   8 601   9   1  24   6]\n",
            " [ 10   3  11   0   8  11 711   0   1   1]\n",
            " [  3   9  15  13   8   0   0 734   5  26]\n",
            " [  6  13   9  39   9  24   8   5 665   9]\n",
            " [  7   7   2  14  45   6   1  42   4 690]]\n",
            "SVC(C=0.01, gamma=0.1, kernel='linear')\n",
            "              precision    recall  f1-score   support\n",
            "\n",
            "           0       0.94      0.97      0.96       773\n",
            "           1       0.95      0.99      0.97       905\n",
            "           2       0.90      0.90      0.90       834\n",
            "           3       0.84      0.89      0.87       803\n",
            "           4       0.89      0.94      0.92       788\n",
            "           5       0.89      0.83      0.86       723\n",
            "           6       0.94      0.94      0.94       756\n",
            "           7       0.91      0.90      0.91       813\n",
            "           8       0.89      0.84      0.87       787\n",
            "           9       0.91      0.84      0.88       818\n",
            "\n",
            "    accuracy                           0.91      8000\n",
            "   macro avg       0.91      0.91      0.91      8000\n",
            "weighted avg       0.91      0.91      0.91      8000\n",
            "\n",
            "Confusion Matrix:\n",
            "\n",
            "[[750   0   6   0   0   6   7   2   1   1]\n",
            " [  0 893   1   2   0   2   3   1   3   0]\n",
            " [  5   8 753   9   9   3  12  10  23   2]\n",
            " [  3   2  26 713   2  22   2   9  20   4]\n",
            " [  2   1  11   0 743   0   5   4   2  20]\n",
            " [  9   5   6  54   8 601   9   1  24   6]\n",
            " [ 10   3  11   0   8  11 711   0   1   1]\n",
            " [  3   9  15  13   8   0   0 734   5  26]\n",
            " [  6  13   9  39   9  24   8   5 665   9]\n",
            " [  7   7   2  14  45   6   1  42   4 690]]\n",
            "SVC(C=0.01, gamma=0.01, kernel='linear')\n",
            "              precision    recall  f1-score   support\n",
            "\n",
            "           0       0.94      0.97      0.96       773\n",
            "           1       0.95      0.99      0.97       905\n",
            "           2       0.90      0.90      0.90       834\n",
            "           3       0.84      0.89      0.87       803\n",
            "           4       0.89      0.94      0.92       788\n",
            "           5       0.89      0.83      0.86       723\n",
            "           6       0.94      0.94      0.94       756\n",
            "           7       0.91      0.90      0.91       813\n",
            "           8       0.89      0.84      0.87       787\n",
            "           9       0.91      0.84      0.88       818\n",
            "\n",
            "    accuracy                           0.91      8000\n",
            "   macro avg       0.91      0.91      0.91      8000\n",
            "weighted avg       0.91      0.91      0.91      8000\n",
            "\n",
            "Confusion Matrix:\n",
            "\n",
            "[[750   0   6   0   0   6   7   2   1   1]\n",
            " [  0 893   1   2   0   2   3   1   3   0]\n",
            " [  5   8 753   9   9   3  12  10  23   2]\n",
            " [  3   2  26 713   2  22   2   9  20   4]\n",
            " [  2   1  11   0 743   0   5   4   2  20]\n",
            " [  9   5   6  54   8 601   9   1  24   6]\n",
            " [ 10   3  11   0   8  11 711   0   1   1]\n",
            " [  3   9  15  13   8   0   0 734   5  26]\n",
            " [  6  13   9  39   9  24   8   5 665   9]\n",
            " [  7   7   2  14  45   6   1  42   4 690]]\n",
            "SVC(C=0.1, gamma=10, kernel='linear')\n",
            "              precision    recall  f1-score   support\n",
            "\n",
            "           0       0.94      0.97      0.96       773\n",
            "           1       0.95      0.99      0.97       905\n",
            "           2       0.90      0.90      0.90       834\n",
            "           3       0.84      0.89      0.87       803\n",
            "           4       0.89      0.94      0.92       788\n",
            "           5       0.89      0.83      0.86       723\n",
            "           6       0.94      0.94      0.94       756\n",
            "           7       0.91      0.90      0.91       813\n",
            "           8       0.89      0.84      0.87       787\n",
            "           9       0.91      0.84      0.88       818\n",
            "\n",
            "    accuracy                           0.91      8000\n",
            "   macro avg       0.91      0.91      0.91      8000\n",
            "weighted avg       0.91      0.91      0.91      8000\n",
            "\n",
            "Confusion Matrix:\n",
            "\n",
            "[[750   0   6   0   0   6   7   2   1   1]\n",
            " [  0 893   1   2   0   2   3   1   3   0]\n",
            " [  5   8 753   9   9   3  12  10  23   2]\n",
            " [  3   2  26 713   2  22   2   9  20   4]\n",
            " [  2   1  11   0 743   0   5   4   2  20]\n",
            " [  9   5   6  54   8 601   9   1  24   6]\n",
            " [ 10   3  11   0   8  11 711   0   1   1]\n",
            " [  3   9  15  13   8   0   0 734   5  26]\n",
            " [  6  13   9  39   9  24   8   5 665   9]\n",
            " [  7   7   2  14  45   6   1  42   4 690]]\n",
            "SVC(C=0.1, gamma=1, kernel='linear')\n",
            "              precision    recall  f1-score   support\n",
            "\n",
            "           0       0.94      0.97      0.96       773\n",
            "           1       0.95      0.99      0.97       905\n",
            "           2       0.90      0.90      0.90       834\n",
            "           3       0.84      0.89      0.87       803\n",
            "           4       0.89      0.94      0.92       788\n",
            "           5       0.89      0.83      0.86       723\n",
            "           6       0.94      0.94      0.94       756\n",
            "           7       0.91      0.90      0.91       813\n",
            "           8       0.89      0.84      0.87       787\n",
            "           9       0.91      0.84      0.88       818\n",
            "\n",
            "    accuracy                           0.91      8000\n",
            "   macro avg       0.91      0.91      0.91      8000\n",
            "weighted avg       0.91      0.91      0.91      8000\n",
            "\n",
            "Confusion Matrix:\n",
            "\n",
            "[[750   0   6   0   0   6   7   2   1   1]\n",
            " [  0 893   1   2   0   2   3   1   3   0]\n",
            " [  5   8 753   9   9   3  12  10  23   2]\n",
            " [  3   2  26 713   2  22   2   9  20   4]\n",
            " [  2   1  11   0 743   0   5   4   2  20]\n",
            " [  9   5   6  54   8 601   9   1  24   6]\n",
            " [ 10   3  11   0   8  11 711   0   1   1]\n",
            " [  3   9  15  13   8   0   0 734   5  26]\n",
            " [  6  13   9  39   9  24   8   5 665   9]\n",
            " [  7   7   2  14  45   6   1  42   4 690]]\n",
            "SVC(C=0.1, gamma=0.1, kernel='linear')\n",
            "              precision    recall  f1-score   support\n",
            "\n",
            "           0       0.94      0.97      0.96       773\n",
            "           1       0.95      0.99      0.97       905\n",
            "           2       0.90      0.90      0.90       834\n",
            "           3       0.84      0.89      0.87       803\n",
            "           4       0.89      0.94      0.92       788\n",
            "           5       0.89      0.83      0.86       723\n",
            "           6       0.94      0.94      0.94       756\n",
            "           7       0.91      0.90      0.91       813\n",
            "           8       0.89      0.84      0.87       787\n",
            "           9       0.91      0.84      0.88       818\n",
            "\n",
            "    accuracy                           0.91      8000\n",
            "   macro avg       0.91      0.91      0.91      8000\n",
            "weighted avg       0.91      0.91      0.91      8000\n",
            "\n",
            "Confusion Matrix:\n",
            "\n",
            "[[750   0   6   0   0   6   7   2   1   1]\n",
            " [  0 893   1   2   0   2   3   1   3   0]\n",
            " [  5   8 753   9   9   3  12  10  23   2]\n",
            " [  3   2  26 713   2  22   2   9  20   4]\n",
            " [  2   1  11   0 743   0   5   4   2  20]\n",
            " [  9   5   6  54   8 601   9   1  24   6]\n",
            " [ 10   3  11   0   8  11 711   0   1   1]\n",
            " [  3   9  15  13   8   0   0 734   5  26]\n",
            " [  6  13   9  39   9  24   8   5 665   9]\n",
            " [  7   7   2  14  45   6   1  42   4 690]]\n",
            "SVC(C=0.1, gamma=0.01, kernel='linear')\n",
            "              precision    recall  f1-score   support\n",
            "\n",
            "           0       0.94      0.97      0.96       773\n",
            "           1       0.95      0.99      0.97       905\n",
            "           2       0.90      0.90      0.90       834\n",
            "           3       0.84      0.89      0.87       803\n",
            "           4       0.89      0.94      0.92       788\n",
            "           5       0.89      0.83      0.86       723\n",
            "           6       0.94      0.94      0.94       756\n",
            "           7       0.91      0.90      0.91       813\n",
            "           8       0.89      0.84      0.87       787\n",
            "           9       0.91      0.84      0.88       818\n",
            "\n",
            "    accuracy                           0.91      8000\n",
            "   macro avg       0.91      0.91      0.91      8000\n",
            "weighted avg       0.91      0.91      0.91      8000\n",
            "\n",
            "Confusion Matrix:\n",
            "\n",
            "[[750   0   6   0   0   6   7   2   1   1]\n",
            " [  0 893   1   2   0   2   3   1   3   0]\n",
            " [  5   8 753   9   9   3  12  10  23   2]\n",
            " [  3   2  26 713   2  22   2   9  20   4]\n",
            " [  2   1  11   0 743   0   5   4   2  20]\n",
            " [  9   5   6  54   8 601   9   1  24   6]\n",
            " [ 10   3  11   0   8  11 711   0   1   1]\n",
            " [  3   9  15  13   8   0   0 734   5  26]\n",
            " [  6  13   9  39   9  24   8   5 665   9]\n",
            " [  7   7   2  14  45   6   1  42   4 690]]\n",
            "SVC(C=10, gamma=10, kernel='linear')\n",
            "              precision    recall  f1-score   support\n",
            "\n",
            "           0       0.94      0.97      0.96       773\n",
            "           1       0.95      0.99      0.97       905\n",
            "           2       0.90      0.90      0.90       834\n",
            "           3       0.84      0.89      0.87       803\n",
            "           4       0.89      0.94      0.92       788\n",
            "           5       0.89      0.83      0.86       723\n",
            "           6       0.94      0.94      0.94       756\n",
            "           7       0.91      0.90      0.91       813\n",
            "           8       0.89      0.84      0.87       787\n",
            "           9       0.91      0.84      0.88       818\n",
            "\n",
            "    accuracy                           0.91      8000\n",
            "   macro avg       0.91      0.91      0.91      8000\n",
            "weighted avg       0.91      0.91      0.91      8000\n",
            "\n",
            "Confusion Matrix:\n",
            "\n",
            "[[750   0   6   0   0   6   7   2   1   1]\n",
            " [  0 893   1   2   0   2   3   1   3   0]\n",
            " [  5   8 753   9   9   3  12  10  23   2]\n",
            " [  3   2  26 713   2  22   2   9  20   4]\n",
            " [  2   1  11   0 743   0   5   4   2  20]\n",
            " [  9   5   6  54   8 601   9   1  24   6]\n",
            " [ 10   3  11   0   8  11 711   0   1   1]\n",
            " [  3   9  15  13   8   0   0 734   5  26]\n",
            " [  6  13   9  39   9  24   8   5 665   9]\n",
            " [  7   7   2  14  45   6   1  42   4 690]]\n",
            "SVC(C=10, gamma=1, kernel='linear')\n",
            "              precision    recall  f1-score   support\n",
            "\n",
            "           0       0.94      0.97      0.96       773\n",
            "           1       0.95      0.99      0.97       905\n",
            "           2       0.90      0.90      0.90       834\n",
            "           3       0.84      0.89      0.87       803\n",
            "           4       0.89      0.94      0.92       788\n",
            "           5       0.89      0.83      0.86       723\n",
            "           6       0.94      0.94      0.94       756\n",
            "           7       0.91      0.90      0.91       813\n",
            "           8       0.89      0.84      0.87       787\n",
            "           9       0.91      0.84      0.88       818\n",
            "\n",
            "    accuracy                           0.91      8000\n",
            "   macro avg       0.91      0.91      0.91      8000\n",
            "weighted avg       0.91      0.91      0.91      8000\n",
            "\n",
            "Confusion Matrix:\n",
            "\n",
            "[[750   0   6   0   0   6   7   2   1   1]\n",
            " [  0 893   1   2   0   2   3   1   3   0]\n",
            " [  5   8 753   9   9   3  12  10  23   2]\n",
            " [  3   2  26 713   2  22   2   9  20   4]\n",
            " [  2   1  11   0 743   0   5   4   2  20]\n",
            " [  9   5   6  54   8 601   9   1  24   6]\n",
            " [ 10   3  11   0   8  11 711   0   1   1]\n",
            " [  3   9  15  13   8   0   0 734   5  26]\n",
            " [  6  13   9  39   9  24   8   5 665   9]\n",
            " [  7   7   2  14  45   6   1  42   4 690]]\n",
            "SVC(C=10, gamma=0.1, kernel='linear')\n",
            "              precision    recall  f1-score   support\n",
            "\n",
            "           0       0.94      0.97      0.96       773\n",
            "           1       0.95      0.99      0.97       905\n",
            "           2       0.90      0.90      0.90       834\n",
            "           3       0.84      0.89      0.87       803\n",
            "           4       0.89      0.94      0.92       788\n",
            "           5       0.89      0.83      0.86       723\n",
            "           6       0.94      0.94      0.94       756\n",
            "           7       0.91      0.90      0.91       813\n",
            "           8       0.89      0.84      0.87       787\n",
            "           9       0.91      0.84      0.88       818\n",
            "\n",
            "    accuracy                           0.91      8000\n",
            "   macro avg       0.91      0.91      0.91      8000\n",
            "weighted avg       0.91      0.91      0.91      8000\n",
            "\n",
            "Confusion Matrix:\n",
            "\n",
            "[[750   0   6   0   0   6   7   2   1   1]\n",
            " [  0 893   1   2   0   2   3   1   3   0]\n",
            " [  5   8 753   9   9   3  12  10  23   2]\n",
            " [  3   2  26 713   2  22   2   9  20   4]\n",
            " [  2   1  11   0 743   0   5   4   2  20]\n",
            " [  9   5   6  54   8 601   9   1  24   6]\n",
            " [ 10   3  11   0   8  11 711   0   1   1]\n",
            " [  3   9  15  13   8   0   0 734   5  26]\n",
            " [  6  13   9  39   9  24   8   5 665   9]\n",
            " [  7   7   2  14  45   6   1  42   4 690]]\n",
            "SVC(C=10, gamma=0.01, kernel='linear')\n",
            "              precision    recall  f1-score   support\n",
            "\n",
            "           0       0.94      0.97      0.96       773\n",
            "           1       0.95      0.99      0.97       905\n",
            "           2       0.90      0.90      0.90       834\n",
            "           3       0.84      0.89      0.87       803\n",
            "           4       0.89      0.94      0.92       788\n",
            "           5       0.89      0.83      0.86       723\n",
            "           6       0.94      0.94      0.94       756\n",
            "           7       0.91      0.90      0.91       813\n",
            "           8       0.89      0.84      0.87       787\n",
            "           9       0.91      0.84      0.88       818\n",
            "\n",
            "    accuracy                           0.91      8000\n",
            "   macro avg       0.91      0.91      0.91      8000\n",
            "weighted avg       0.91      0.91      0.91      8000\n",
            "\n",
            "Confusion Matrix:\n",
            "\n",
            "[[750   0   6   0   0   6   7   2   1   1]\n",
            " [  0 893   1   2   0   2   3   1   3   0]\n",
            " [  5   8 753   9   9   3  12  10  23   2]\n",
            " [  3   2  26 713   2  22   2   9  20   4]\n",
            " [  2   1  11   0 743   0   5   4   2  20]\n",
            " [  9   5   6  54   8 601   9   1  24   6]\n",
            " [ 10   3  11   0   8  11 711   0   1   1]\n",
            " [  3   9  15  13   8   0   0 734   5  26]\n",
            " [  6  13   9  39   9  24   8   5 665   9]\n",
            " [  7   7   2  14  45   6   1  42   4 690]]\n",
            "SVC(C=1000000.0, gamma=10, kernel='linear')\n",
            "              precision    recall  f1-score   support\n",
            "\n",
            "           0       0.94      0.97      0.96       773\n",
            "           1       0.95      0.99      0.97       905\n",
            "           2       0.90      0.90      0.90       834\n",
            "           3       0.84      0.89      0.87       803\n",
            "           4       0.89      0.94      0.92       788\n",
            "           5       0.89      0.83      0.86       723\n",
            "           6       0.94      0.94      0.94       756\n",
            "           7       0.91      0.90      0.91       813\n",
            "           8       0.89      0.84      0.87       787\n",
            "           9       0.91      0.84      0.88       818\n",
            "\n",
            "    accuracy                           0.91      8000\n",
            "   macro avg       0.91      0.91      0.91      8000\n",
            "weighted avg       0.91      0.91      0.91      8000\n",
            "\n",
            "Confusion Matrix:\n",
            "\n",
            "[[750   0   6   0   0   6   7   2   1   1]\n",
            " [  0 893   1   2   0   2   3   1   3   0]\n",
            " [  5   8 753   9   9   3  12  10  23   2]\n",
            " [  3   2  26 713   2  22   2   9  20   4]\n",
            " [  2   1  11   0 743   0   5   4   2  20]\n",
            " [  9   5   6  54   8 601   9   1  24   6]\n",
            " [ 10   3  11   0   8  11 711   0   1   1]\n",
            " [  3   9  15  13   8   0   0 734   5  26]\n",
            " [  6  13   9  39   9  24   8   5 665   9]\n",
            " [  7   7   2  14  45   6   1  42   4 690]]\n",
            "SVC(C=1000000.0, gamma=1, kernel='linear')\n",
            "              precision    recall  f1-score   support\n",
            "\n",
            "           0       0.94      0.97      0.96       773\n",
            "           1       0.95      0.99      0.97       905\n",
            "           2       0.90      0.90      0.90       834\n",
            "           3       0.84      0.89      0.87       803\n",
            "           4       0.89      0.94      0.92       788\n",
            "           5       0.89      0.83      0.86       723\n",
            "           6       0.94      0.94      0.94       756\n",
            "           7       0.91      0.90      0.91       813\n",
            "           8       0.89      0.84      0.87       787\n",
            "           9       0.91      0.84      0.88       818\n",
            "\n",
            "    accuracy                           0.91      8000\n",
            "   macro avg       0.91      0.91      0.91      8000\n",
            "weighted avg       0.91      0.91      0.91      8000\n",
            "\n",
            "Confusion Matrix:\n",
            "\n",
            "[[750   0   6   0   0   6   7   2   1   1]\n",
            " [  0 893   1   2   0   2   3   1   3   0]\n",
            " [  5   8 753   9   9   3  12  10  23   2]\n",
            " [  3   2  26 713   2  22   2   9  20   4]\n",
            " [  2   1  11   0 743   0   5   4   2  20]\n",
            " [  9   5   6  54   8 601   9   1  24   6]\n",
            " [ 10   3  11   0   8  11 711   0   1   1]\n",
            " [  3   9  15  13   8   0   0 734   5  26]\n",
            " [  6  13   9  39   9  24   8   5 665   9]\n",
            " [  7   7   2  14  45   6   1  42   4 690]]\n",
            "SVC(C=1000000.0, gamma=0.1, kernel='linear')\n",
            "              precision    recall  f1-score   support\n",
            "\n",
            "           0       0.94      0.97      0.96       773\n",
            "           1       0.95      0.99      0.97       905\n",
            "           2       0.90      0.90      0.90       834\n",
            "           3       0.84      0.89      0.87       803\n",
            "           4       0.89      0.94      0.92       788\n",
            "           5       0.89      0.83      0.86       723\n",
            "           6       0.94      0.94      0.94       756\n",
            "           7       0.91      0.90      0.91       813\n",
            "           8       0.89      0.84      0.87       787\n",
            "           9       0.91      0.84      0.88       818\n",
            "\n",
            "    accuracy                           0.91      8000\n",
            "   macro avg       0.91      0.91      0.91      8000\n",
            "weighted avg       0.91      0.91      0.91      8000\n",
            "\n",
            "Confusion Matrix:\n",
            "\n",
            "[[750   0   6   0   0   6   7   2   1   1]\n",
            " [  0 893   1   2   0   2   3   1   3   0]\n",
            " [  5   8 753   9   9   3  12  10  23   2]\n",
            " [  3   2  26 713   2  22   2   9  20   4]\n",
            " [  2   1  11   0 743   0   5   4   2  20]\n",
            " [  9   5   6  54   8 601   9   1  24   6]\n",
            " [ 10   3  11   0   8  11 711   0   1   1]\n",
            " [  3   9  15  13   8   0   0 734   5  26]\n",
            " [  6  13   9  39   9  24   8   5 665   9]\n",
            " [  7   7   2  14  45   6   1  42   4 690]]\n",
            "SVC(C=1000000.0, gamma=0.01, kernel='linear')\n",
            "              precision    recall  f1-score   support\n",
            "\n",
            "           0       0.94      0.97      0.96       773\n",
            "           1       0.95      0.99      0.97       905\n",
            "           2       0.90      0.90      0.90       834\n",
            "           3       0.84      0.89      0.87       803\n",
            "           4       0.89      0.94      0.92       788\n",
            "           5       0.89      0.83      0.86       723\n",
            "           6       0.94      0.94      0.94       756\n",
            "           7       0.91      0.90      0.91       813\n",
            "           8       0.89      0.84      0.87       787\n",
            "           9       0.91      0.84      0.88       818\n",
            "\n",
            "    accuracy                           0.91      8000\n",
            "   macro avg       0.91      0.91      0.91      8000\n",
            "weighted avg       0.91      0.91      0.91      8000\n",
            "\n",
            "Confusion Matrix:\n",
            "\n",
            "[[750   0   6   0   0   6   7   2   1   1]\n",
            " [  0 893   1   2   0   2   3   1   3   0]\n",
            " [  5   8 753   9   9   3  12  10  23   2]\n",
            " [  3   2  26 713   2  22   2   9  20   4]\n",
            " [  2   1  11   0 743   0   5   4   2  20]\n",
            " [  9   5   6  54   8 601   9   1  24   6]\n",
            " [ 10   3  11   0   8  11 711   0   1   1]\n",
            " [  3   9  15  13   8   0   0 734   5  26]\n",
            " [  6  13   9  39   9  24   8   5 665   9]\n",
            " [  7   7   2  14  45   6   1  42   4 690]]\n"
          ]
        }
      ]
    },
    {
      "cell_type": "code",
      "metadata": {
        "colab": {
          "base_uri": "https://localhost:8080/"
        },
        "id": "DvQ9LhQnwBvR",
        "outputId": "af0580a2-f4f9-4ff6-89aa-5da10a2bad72"
      },
      "source": [
        "for k in ['linear', 'poly', 'rbf', 'sigmoid']:\n",
        "  model=SVC(kernel=k, C=1E6)\n",
        "  model.fit(X_train,y_train)\n",
        "  y_pred=model.predict(X_test)\n",
        "  print(model)\n",
        "  print(classification_report(y_test,y_pred))\n",
        "  print(\"Confusion Matrix:\\n\")\n",
        "  print(confusion_matrix(y_test,y_pred))"
      ],
      "execution_count": null,
      "outputs": [
        {
          "output_type": "stream",
          "name": "stdout",
          "text": [
            "SVC(C=1000000.0, kernel='linear')\n",
            "              precision    recall  f1-score   support\n",
            "\n",
            "           0       0.94      0.97      0.96       773\n",
            "           1       0.95      0.99      0.97       905\n",
            "           2       0.90      0.90      0.90       834\n",
            "           3       0.84      0.89      0.87       803\n",
            "           4       0.89      0.94      0.92       788\n",
            "           5       0.89      0.83      0.86       723\n",
            "           6       0.94      0.94      0.94       756\n",
            "           7       0.91      0.90      0.91       813\n",
            "           8       0.89      0.84      0.87       787\n",
            "           9       0.91      0.84      0.88       818\n",
            "\n",
            "    accuracy                           0.91      8000\n",
            "   macro avg       0.91      0.91      0.91      8000\n",
            "weighted avg       0.91      0.91      0.91      8000\n",
            "\n",
            "Confusion Matrix:\n",
            "\n",
            "[[750   0   6   0   0   6   7   2   1   1]\n",
            " [  0 893   1   2   0   2   3   1   3   0]\n",
            " [  5   8 753   9   9   3  12  10  23   2]\n",
            " [  3   2  26 713   2  22   2   9  20   4]\n",
            " [  2   1  11   0 743   0   5   4   2  20]\n",
            " [  9   5   6  54   8 601   9   1  24   6]\n",
            " [ 10   3  11   0   8  11 711   0   1   1]\n",
            " [  3   9  15  13   8   0   0 734   5  26]\n",
            " [  6  13   9  39   9  24   8   5 665   9]\n",
            " [  7   7   2  14  45   6   1  42   4 690]]\n",
            "SVC(C=1000000.0, kernel='poly')\n",
            "              precision    recall  f1-score   support\n",
            "\n",
            "           0       0.96      0.98      0.97       773\n",
            "           1       0.94      0.99      0.96       905\n",
            "           2       0.96      0.95      0.95       834\n",
            "           3       0.94      0.95      0.94       803\n",
            "           4       0.95      0.97      0.96       788\n",
            "           5       0.97      0.92      0.94       723\n",
            "           6       0.96      0.97      0.96       756\n",
            "           7       0.96      0.94      0.95       813\n",
            "           8       0.96      0.94      0.95       787\n",
            "           9       0.95      0.93      0.94       818\n",
            "\n",
            "    accuracy                           0.95      8000\n",
            "   macro avg       0.95      0.95      0.95      8000\n",
            "weighted avg       0.95      0.95      0.95      8000\n",
            "\n",
            "Confusion Matrix:\n",
            "\n",
            "[[757   0   3   0   0   4   5   2   2   0]\n",
            " [  0 892   3   1   0   0   4   0   4   1]\n",
            " [  7   9 790   3   3   0   8  11   1   2]\n",
            " [  0   7  13 763   0   5   1   6   5   3]\n",
            " [  1   3   2   0 762   0   6   2   1  11]\n",
            " [  5   5   3  20   3 666   5   0  11   5]\n",
            " [  5   6   1   0   6   5 731   0   2   0]\n",
            " [  0  19   9   3   4   0   0 767   1  10]\n",
            " [  8   2   2  12   4   9   2   6 738   4]\n",
            " [  5   9   0  10  16   1   0   7   6 764]]\n",
            "SVC(C=1000000.0)\n",
            "              precision    recall  f1-score   support\n",
            "\n",
            "           0       0.97      0.99      0.98       773\n",
            "           1       0.97      0.99      0.98       905\n",
            "           2       0.96      0.97      0.97       834\n",
            "           3       0.95      0.96      0.96       803\n",
            "           4       0.96      0.97      0.96       788\n",
            "           5       0.98      0.95      0.96       723\n",
            "           6       0.97      0.98      0.97       756\n",
            "           7       0.97      0.95      0.96       813\n",
            "           8       0.97      0.96      0.97       787\n",
            "           9       0.96      0.94      0.95       818\n",
            "\n",
            "    accuracy                           0.97      8000\n",
            "   macro avg       0.97      0.97      0.97      8000\n",
            "weighted avg       0.97      0.97      0.97      8000\n",
            "\n",
            "Confusion Matrix:\n",
            "\n",
            "[[764   0   1   0   0   2   4   1   1   0]\n",
            " [  0 897   2   1   0   1   4   0   0   0]\n",
            " [  3   0 810   2   2   0   5   7   3   2]\n",
            " [  1   0  12 771   1   4   1   6   4   3]\n",
            " [  1   0   2   0 766   0   7   1   1  10]\n",
            " [  5   1   1  15   4 686   3   1   5   2]\n",
            " [  5   3   2   0   4   2 738   0   2   0]\n",
            " [  0  12  10   5   7   0   0 770   0   9]\n",
            " [  3   1   2   9   4   5   0   3 757   3]\n",
            " [  5   6   1   8  12   3   0   7   8 768]]\n",
            "SVC(C=1000000.0, kernel='sigmoid')\n",
            "              precision    recall  f1-score   support\n",
            "\n",
            "           0       0.86      0.81      0.83       773\n",
            "           1       0.91      0.93      0.92       905\n",
            "           2       0.76      0.72      0.74       834\n",
            "           3       0.75      0.68      0.71       803\n",
            "           4       0.80      0.80      0.80       788\n",
            "           5       0.52      0.61      0.56       723\n",
            "           6       0.83      0.79      0.81       756\n",
            "           7       0.81      0.83      0.82       813\n",
            "           8       0.65      0.69      0.67       787\n",
            "           9       0.73      0.70      0.72       818\n",
            "\n",
            "    accuracy                           0.76      8000\n",
            "   macro avg       0.76      0.76      0.76      8000\n",
            "weighted avg       0.76      0.76      0.76      8000\n",
            "\n",
            "Confusion Matrix:\n",
            "\n",
            "[[626   0   8   3   0  84  36   2  13   1]\n",
            " [  0 840  14   7   0  11   5   1  26   1]\n",
            " [ 23  25 602  27  17  11  55  12  57   5]\n",
            " [ 15   4  43 548   1 121   4  19  36  12]\n",
            " [  1   6   5   2 633  11  12  14  12  92]\n",
            " [ 28  12  15  95  14 438   9   9  84  19]\n",
            " [  9   3  42   0  33  43 596   3  27   0]\n",
            " [  6  15  25  13   7   9   2 677  13  46]\n",
            " [ 14  13  33  27  13  85   2  21 541  38]\n",
            " [ 10  10   6  12  75  28   1  78  23 575]]\n"
          ]
        }
      ]
    },
    {
      "cell_type": "code",
      "metadata": {
        "colab": {
          "base_uri": "https://localhost:8080/"
        },
        "id": "FxzKZCWi7ngv",
        "outputId": "85d6b33a-dde4-4027-f80e-dc2d76f522b4"
      },
      "source": [
        "for k in ['linear', 'poly', 'rbf', 'sigmoid']:\n",
        "  model=SVC(kernel=k, C=0.01)\n",
        "  model.fit(X_train,y_train)\n",
        "  y_pred=model.predict(X_test)\n",
        "  print(model)\n",
        "  print(classification_report(y_test,y_pred))\n",
        "  print(\"Confusion Matrix:\\n\")\n",
        "  print(confusion_matrix(y_test,y_pred))"
      ],
      "execution_count": null,
      "outputs": [
        {
          "output_type": "stream",
          "name": "stdout",
          "text": [
            "SVC(C=0.01, kernel='linear')\n",
            "              precision    recall  f1-score   support\n",
            "\n",
            "           0       0.94      0.97      0.96       773\n",
            "           1       0.95      0.99      0.97       905\n",
            "           2       0.90      0.90      0.90       834\n",
            "           3       0.84      0.89      0.87       803\n",
            "           4       0.89      0.94      0.92       788\n",
            "           5       0.89      0.83      0.86       723\n",
            "           6       0.94      0.94      0.94       756\n",
            "           7       0.91      0.90      0.91       813\n",
            "           8       0.89      0.84      0.87       787\n",
            "           9       0.91      0.84      0.88       818\n",
            "\n",
            "    accuracy                           0.91      8000\n",
            "   macro avg       0.91      0.91      0.91      8000\n",
            "weighted avg       0.91      0.91      0.91      8000\n",
            "\n",
            "Confusion Matrix:\n",
            "\n",
            "[[750   0   6   0   0   6   7   2   1   1]\n",
            " [  0 893   1   2   0   2   3   1   3   0]\n",
            " [  5   8 753   9   9   3  12  10  23   2]\n",
            " [  3   2  26 713   2  22   2   9  20   4]\n",
            " [  2   1  11   0 743   0   5   4   2  20]\n",
            " [  9   5   6  54   8 601   9   1  24   6]\n",
            " [ 10   3  11   0   8  11 711   0   1   1]\n",
            " [  3   9  15  13   8   0   0 734   5  26]\n",
            " [  6  13   9  39   9  24   8   5 665   9]\n",
            " [  7   7   2  14  45   6   1  42   4 690]]\n",
            "SVC(C=0.01, kernel='poly')\n",
            "              precision    recall  f1-score   support\n",
            "\n",
            "           0       0.95      0.75      0.84       773\n",
            "           1       0.33      0.99      0.49       905\n",
            "           2       0.94      0.63      0.76       834\n",
            "           3       0.88      0.63      0.74       803\n",
            "           4       0.84      0.71      0.77       788\n",
            "           5       0.81      0.56      0.66       723\n",
            "           6       0.95      0.73      0.82       756\n",
            "           7       0.87      0.70      0.78       813\n",
            "           8       0.93      0.58      0.71       787\n",
            "           9       0.90      0.65      0.75       818\n",
            "\n",
            "    accuracy                           0.70      8000\n",
            "   macro avg       0.84      0.69      0.73      8000\n",
            "weighted avg       0.83      0.70      0.73      8000\n",
            "\n",
            "Confusion Matrix:\n",
            "\n",
            "[[581 132   2   2   5  33  11   5   2   0]\n",
            " [  0 900   2   1   0   0   1   0   1   0]\n",
            " [  5 251 528  10   7   1   4  12  15   1]\n",
            " [  1 242  12 509   1  18   1  11   7   1]\n",
            " [  1 196   0   0 560   0   4   1   0  26]\n",
            " [  1 271   5  18   9 405   5   4   4   1]\n",
            " [  5 166   2   0  15  16 552   0   0   0]\n",
            " [  1 221   6   1   3   0   0 572   2   7]\n",
            " [  8 209   4  33  15  23   5  14 453  23]\n",
            " [  9 174   2   6  48   2   1  41   4 531]]\n",
            "SVC(C=0.01)\n",
            "              precision    recall  f1-score   support\n",
            "\n",
            "           0       0.91      0.94      0.92       773\n",
            "           1       0.86      0.98      0.91       905\n",
            "           2       0.83      0.82      0.82       834\n",
            "           3       0.56      0.91      0.69       803\n",
            "           4       0.67      0.92      0.78       788\n",
            "           5       0.96      0.22      0.36       723\n",
            "           6       0.89      0.87      0.88       756\n",
            "           7       0.83      0.88      0.86       813\n",
            "           8       0.83      0.68      0.75       787\n",
            "           9       0.88      0.59      0.71       818\n",
            "\n",
            "    accuracy                           0.79      8000\n",
            "   macro avg       0.82      0.78      0.77      8000\n",
            "weighted avg       0.82      0.79      0.77      8000\n",
            "\n",
            "Confusion Matrix:\n",
            "\n",
            "[[723   0   8   9   0   1  24   1   7   0]\n",
            " [  0 885   6   6   1   0   4   0   3   0]\n",
            " [  7  28 686  37  22   0  15  18  21   0]\n",
            " [  4  11  19 728   3   1   6  18   9   4]\n",
            " [  1   8   4   0 728   0  12   4   3  28]\n",
            " [ 17  18  15 360  52 160  15  17  55  14]\n",
            " [ 11   8  40   6  30   4 654   0   3   0]\n",
            " [  2  46  19   2  20   0   0 717   3   4]\n",
            " [ 15  15  22 134  21   0   7  19 538  16]\n",
            " [ 15  16  11  16 208   1   0  66   3 482]]\n",
            "SVC(C=0.01, kernel='sigmoid')\n",
            "              precision    recall  f1-score   support\n",
            "\n",
            "           0       0.86      0.94      0.90       773\n",
            "           1       0.73      0.98      0.83       905\n",
            "           2       0.90      0.68      0.78       834\n",
            "           3       0.57      0.88      0.69       803\n",
            "           4       0.76      0.69      0.72       788\n",
            "           5       0.95      0.15      0.26       723\n",
            "           6       0.83      0.86      0.85       756\n",
            "           7       0.75      0.87      0.81       813\n",
            "           8       0.75      0.65      0.69       787\n",
            "           9       0.65      0.64      0.65       818\n",
            "\n",
            "    accuracy                           0.74      8000\n",
            "   macro avg       0.77      0.74      0.72      8000\n",
            "weighted avg       0.77      0.74      0.72      8000\n",
            "\n",
            "Confusion Matrix:\n",
            "\n",
            "[[730   0   4   7   0   1  22   1   8   0]\n",
            " [  0 885   0   9   0   1   4   0   6   0]\n",
            " [ 18 102 569  37  17   0  28  21  40   2]\n",
            " [  8  16  17 710   1   0  11  20  11   9]\n",
            " [  1  18   1   0 540   0  19   7   7 195]\n",
            " [ 33  50   1 334  22 109  31  26  77  40]\n",
            " [ 23  19  21   6  24   4 652   0   7   0]\n",
            " [  4  67   8   0  13   0   0 708   8   5]\n",
            " [ 12  36   4 135   7   0  16  30 512  35]\n",
            " [ 15  22   5  14  88   0   4 133  11 526]]\n"
          ]
        }
      ]
    },
    {
      "cell_type": "code",
      "metadata": {
        "id": "r3H3eheTFO3E"
      },
      "source": [
        ""
      ],
      "execution_count": null,
      "outputs": []
    }
  ]
}